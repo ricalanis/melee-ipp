{
 "cells": [
  {
   "cell_type": "code",
   "execution_count": 2,
   "metadata": {
    "collapsed": true
   },
   "outputs": [],
   "source": [
    "import cv2\n",
    "import numpy as np\n",
    "import os"
   ]
  },
  {
   "cell_type": "code",
   "execution_count": 3,
   "metadata": {
    "collapsed": true
   },
   "outputs": [],
   "source": [
    "def test_image(move_file,game_screenshot):\n",
    "    print(move_file, game_screenshot)\n",
    "    img1 = cv2.imread(move_file,0)          # queryImage\n",
    "    img2 = cv2.imread(game_screenshot,0) # trainImage\n",
    "    sift = cv2.SIFT()\n",
    "    kp1, des1 = sift.detectAndCompute(img1,None)\n",
    "    kp2, des2 = sift.detectAndCompute(img2,None)\n",
    "    FLANN_INDEX_KDTREE = 0\n",
    "    index_params = dict(algorithm = FLANN_INDEX_KDTREE, trees = 5)\n",
    "    search_params = dict(checks = 50)\n",
    "    flann = cv2.FlannBasedMatcher(index_params, search_params)\n",
    "    matches = flann.knnMatch(des1,des2,k=2)\n",
    "    good = []\n",
    "    for m,n in matches:\n",
    "        if m.distance < 0.7*n.distance:\n",
    "            good.append(m)\n",
    "    #print(len(matches))\n",
    "    #print(len(good))\n",
    "    return len(good)"
   ]
  },
  {
   "cell_type": "code",
   "execution_count": 4,
   "metadata": {
    "collapsed": false
   },
   "outputs": [
    {
     "name": "stdout",
     "output_type": "stream",
     "text": [
      "['Mario_AAA_Combo_SSBM', 'Mario_Airdodge_SSBM', 'Mario_Backwards_double_jump_SSBM', 'Mario_Backwards_jump_SSBM', 'Mario_Crouch_hold_SSBM']\n"
     ]
    }
   ],
   "source": [
    "mario_moves = os.listdir(\"mario/moves\")\n",
    "mario_moves.remove('.DS_Store')\n",
    "print(mario_moves[0:5])"
   ]
  },
  {
   "cell_type": "code",
   "execution_count": 5,
   "metadata": {
    "collapsed": false
   },
   "outputs": [
    {
     "name": "stdout",
     "output_type": "stream",
     "text": [
      "['ffmpeg_1.png', 'ffmpeg_10.png', 'ffmpeg_100.png', 'ffmpeg_101.png', 'ffmpeg_102.png']\n"
     ]
    }
   ],
   "source": [
    "video_frames = os.listdir(\"video/frames\")\n",
    "print(video_frames[0:5])"
   ]
  },
  {
   "cell_type": "code",
   "execution_count": 8,
   "metadata": {
    "collapsed": true
   },
   "outputs": [],
   "source": [
    "prefix_moves = \"mario/moves/\"\n",
    "prefix_game = \"video/frames/\""
   ]
  },
  {
   "cell_type": "code",
   "execution_count": 17,
   "metadata": {
    "collapsed": false
   },
   "outputs": [
    {
     "name": "stdout",
     "output_type": "stream",
     "text": [
      "('mario/moves/Mario_AAA_Combo_SSBM/0.png', 'video/frames/ffmpeg_1.png')\n",
      "('mario/moves/Mario_AAA_Combo_SSBM/1.png', 'video/frames/ffmpeg_1.png')\n",
      "('mario/moves/Mario_AAA_Combo_SSBM/2.png', 'video/frames/ffmpeg_1.png')\n",
      "('mario/moves/Mario_AAA_Combo_SSBM/3.png', 'video/frames/ffmpeg_1.png')\n",
      "('mario/moves/Mario_AAA_Combo_SSBM/4.png', 'video/frames/ffmpeg_1.png')\n",
      "('mario/moves/Mario_AAA_Combo_SSBM/5.png', 'video/frames/ffmpeg_1.png')\n",
      "('mario/moves/Mario_AAA_Combo_SSBM/6.png', 'video/frames/ffmpeg_1.png')\n",
      "('mario/moves/Mario_AAA_Combo_SSBM/7.png', 'video/frames/ffmpeg_1.png')\n",
      "('mario/moves/Mario_AAA_Combo_SSBM/8.png', 'video/frames/ffmpeg_1.png')\n",
      "('mario/moves/Mario_AAA_Combo_SSBM/9.png', 'video/frames/ffmpeg_1.png')\n",
      "('mario/moves/Mario_AAA_Combo_SSBM/10.png', 'video/frames/ffmpeg_1.png')\n",
      "('mario/moves/Mario_AAA_Combo_SSBM/11.png', 'video/frames/ffmpeg_1.png')\n",
      "('mario/moves/Mario_AAA_Combo_SSBM/12.png', 'video/frames/ffmpeg_1.png')\n",
      "('mario/moves/Mario_AAA_Combo_SSBM/13.png', 'video/frames/ffmpeg_1.png')\n",
      "('mario/moves/Mario_AAA_Combo_SSBM/14.png', 'video/frames/ffmpeg_1.png')\n",
      "('mario/moves/Mario_AAA_Combo_SSBM/15.png', 'video/frames/ffmpeg_1.png')\n",
      "('mario/moves/Mario_AAA_Combo_SSBM/16.png', 'video/frames/ffmpeg_1.png')\n",
      "('mario/moves/Mario_AAA_Combo_SSBM/17.png', 'video/frames/ffmpeg_1.png')\n",
      "('mario/moves/Mario_AAA_Combo_SSBM/18.png', 'video/frames/ffmpeg_1.png')\n",
      "('mario/moves/Mario_AAA_Combo_SSBM/19.png', 'video/frames/ffmpeg_1.png')\n",
      "('mario/moves/Mario_AAA_Combo_SSBM/20.png', 'video/frames/ffmpeg_1.png')\n",
      "('mario/moves/Mario_AAA_Combo_SSBM/21.png', 'video/frames/ffmpeg_1.png')\n",
      "('mario/moves/Mario_AAA_Combo_SSBM/22.png', 'video/frames/ffmpeg_1.png')\n",
      "{'frame': 1, 'Mario_AAA_Combo_SSBM_frame': 1, 'Mario_AAA_Combo_SSBM_count': 1}\n",
      "('mario/moves/Mario_Airdodge_SSBM/0.png', 'video/frames/ffmpeg_1.png')\n",
      "('mario/moves/Mario_Airdodge_SSBM/1.png', 'video/frames/ffmpeg_1.png')\n",
      "('mario/moves/Mario_Airdodge_SSBM/2.png', 'video/frames/ffmpeg_1.png')\n",
      "('mario/moves/Mario_Airdodge_SSBM/3.png', 'video/frames/ffmpeg_1.png')\n",
      "('mario/moves/Mario_Airdodge_SSBM/4.png', 'video/frames/ffmpeg_1.png')\n",
      "('mario/moves/Mario_Airdodge_SSBM/5.png', 'video/frames/ffmpeg_1.png')\n",
      "('mario/moves/Mario_Airdodge_SSBM/6.png', 'video/frames/ffmpeg_1.png')\n",
      "('mario/moves/Mario_Airdodge_SSBM/7.png', 'video/frames/ffmpeg_1.png')\n",
      "('mario/moves/Mario_Airdodge_SSBM/8.png', 'video/frames/ffmpeg_1.png')\n",
      "('mario/moves/Mario_Airdodge_SSBM/9.png', 'video/frames/ffmpeg_1.png')\n",
      "('mario/moves/Mario_Airdodge_SSBM/10.png', 'video/frames/ffmpeg_1.png')\n",
      "('mario/moves/Mario_Airdodge_SSBM/11.png', 'video/frames/ffmpeg_1.png')\n",
      "('mario/moves/Mario_Airdodge_SSBM/12.png', 'video/frames/ffmpeg_1.png')\n",
      "('mario/moves/Mario_Airdodge_SSBM/13.png', 'video/frames/ffmpeg_1.png')\n",
      "('mario/moves/Mario_Airdodge_SSBM/14.png', 'video/frames/ffmpeg_1.png')\n",
      "('mario/moves/Mario_Airdodge_SSBM/15.png', 'video/frames/ffmpeg_1.png')\n",
      "('mario/moves/Mario_Airdodge_SSBM/16.png', 'video/frames/ffmpeg_1.png')\n",
      "{'Mario_Airdodge_SSBM_frame': 2, 'frame': 1, 'Mario_Airdodge_SSBM_count': 3, 'Mario_AAA_Combo_SSBM_frame': 1, 'Mario_AAA_Combo_SSBM_count': 1}\n",
      "('mario/moves/Mario_Backwards_double_jump_SSBM/0.png', 'video/frames/ffmpeg_1.png')\n",
      "('mario/moves/Mario_Backwards_double_jump_SSBM/1.png', 'video/frames/ffmpeg_1.png')\n",
      "('mario/moves/Mario_Backwards_double_jump_SSBM/2.png', 'video/frames/ffmpeg_1.png')\n",
      "('mario/moves/Mario_Backwards_double_jump_SSBM/3.png', 'video/frames/ffmpeg_1.png')\n",
      "('mario/moves/Mario_Backwards_double_jump_SSBM/4.png', 'video/frames/ffmpeg_1.png')\n",
      "('mario/moves/Mario_Backwards_double_jump_SSBM/5.png', 'video/frames/ffmpeg_1.png')\n",
      "('mario/moves/Mario_Backwards_double_jump_SSBM/6.png', 'video/frames/ffmpeg_1.png')\n",
      "('mario/moves/Mario_Backwards_double_jump_SSBM/7.png', 'video/frames/ffmpeg_1.png')\n",
      "('mario/moves/Mario_Backwards_double_jump_SSBM/8.png', 'video/frames/ffmpeg_1.png')\n",
      "('mario/moves/Mario_Backwards_double_jump_SSBM/9.png', 'video/frames/ffmpeg_1.png')\n",
      "('mario/moves/Mario_Backwards_double_jump_SSBM/10.png', 'video/frames/ffmpeg_1.png')\n",
      "('mario/moves/Mario_Backwards_double_jump_SSBM/11.png', 'video/frames/ffmpeg_1.png')\n",
      "('mario/moves/Mario_Backwards_double_jump_SSBM/12.png', 'video/frames/ffmpeg_1.png')\n",
      "('mario/moves/Mario_Backwards_double_jump_SSBM/13.png', 'video/frames/ffmpeg_1.png')\n",
      "('mario/moves/Mario_Backwards_double_jump_SSBM/14.png', 'video/frames/ffmpeg_1.png')\n",
      "('mario/moves/Mario_Backwards_double_jump_SSBM/15.png', 'video/frames/ffmpeg_1.png')\n",
      "('mario/moves/Mario_Backwards_double_jump_SSBM/16.png', 'video/frames/ffmpeg_1.png')\n",
      "('mario/moves/Mario_Backwards_double_jump_SSBM/17.png', 'video/frames/ffmpeg_1.png')\n",
      "('mario/moves/Mario_Backwards_double_jump_SSBM/18.png', 'video/frames/ffmpeg_1.png')\n",
      "('mario/moves/Mario_Backwards_double_jump_SSBM/19.png', 'video/frames/ffmpeg_1.png')\n",
      "('mario/moves/Mario_Backwards_double_jump_SSBM/20.png', 'video/frames/ffmpeg_1.png')\n",
      "('mario/moves/Mario_Backwards_double_jump_SSBM/21.png', 'video/frames/ffmpeg_1.png')\n",
      "('mario/moves/Mario_Backwards_double_jump_SSBM/22.png', 'video/frames/ffmpeg_1.png')\n",
      "('mario/moves/Mario_Backwards_double_jump_SSBM/23.png', 'video/frames/ffmpeg_1.png')\n",
      "('mario/moves/Mario_Backwards_double_jump_SSBM/24.png', 'video/frames/ffmpeg_1.png')\n",
      "('mario/moves/Mario_Backwards_double_jump_SSBM/25.png', 'video/frames/ffmpeg_1.png')\n",
      "('mario/moves/Mario_Backwards_double_jump_SSBM/26.png', 'video/frames/ffmpeg_1.png')\n",
      "('mario/moves/Mario_Backwards_double_jump_SSBM/27.png', 'video/frames/ffmpeg_1.png')\n",
      "('mario/moves/Mario_Backwards_double_jump_SSBM/28.png', 'video/frames/ffmpeg_1.png')\n",
      "('mario/moves/Mario_Backwards_double_jump_SSBM/29.png', 'video/frames/ffmpeg_1.png')\n",
      "('mario/moves/Mario_Backwards_double_jump_SSBM/30.png', 'video/frames/ffmpeg_1.png')\n",
      "('mario/moves/Mario_Backwards_double_jump_SSBM/31.png', 'video/frames/ffmpeg_1.png')\n",
      "('mario/moves/Mario_Backwards_double_jump_SSBM/32.png', 'video/frames/ffmpeg_1.png')\n",
      "('mario/moves/Mario_Backwards_double_jump_SSBM/33.png', 'video/frames/ffmpeg_1.png')\n",
      "('mario/moves/Mario_Backwards_double_jump_SSBM/34.png', 'video/frames/ffmpeg_1.png')\n",
      "('mario/moves/Mario_Backwards_double_jump_SSBM/35.png', 'video/frames/ffmpeg_1.png')\n",
      "('mario/moves/Mario_Backwards_double_jump_SSBM/36.png', 'video/frames/ffmpeg_1.png')\n",
      "('mario/moves/Mario_Backwards_double_jump_SSBM/37.png', 'video/frames/ffmpeg_1.png')\n",
      "('mario/moves/Mario_Backwards_double_jump_SSBM/38.png', 'video/frames/ffmpeg_1.png')\n",
      "('mario/moves/Mario_Backwards_double_jump_SSBM/39.png', 'video/frames/ffmpeg_1.png')\n",
      "{'frame': 1, 'Mario_Airdodge_SSBM_frame': 2, 'Mario_Backwards_double_jump_SSBM_count': 4, 'Mario_Airdodge_SSBM_count': 3, 'Mario_AAA_Combo_SSBM_count': 1, 'Mario_Backwards_double_jump_SSBM_frame': 2, 'Mario_AAA_Combo_SSBM_frame': 1}\n",
      "('mario/moves/Mario_Backwards_jump_SSBM/0.png', 'video/frames/ffmpeg_1.png')\n",
      "('mario/moves/Mario_Backwards_jump_SSBM/1.png', 'video/frames/ffmpeg_1.png')\n",
      "('mario/moves/Mario_Backwards_jump_SSBM/2.png', 'video/frames/ffmpeg_1.png')\n",
      "('mario/moves/Mario_Backwards_jump_SSBM/3.png', 'video/frames/ffmpeg_1.png')\n",
      "('mario/moves/Mario_Backwards_jump_SSBM/4.png', 'video/frames/ffmpeg_1.png')\n",
      "('mario/moves/Mario_Backwards_jump_SSBM/5.png', 'video/frames/ffmpeg_1.png')\n",
      "('mario/moves/Mario_Backwards_jump_SSBM/6.png', 'video/frames/ffmpeg_1.png')\n",
      "('mario/moves/Mario_Backwards_jump_SSBM/7.png', 'video/frames/ffmpeg_1.png')\n",
      "('mario/moves/Mario_Backwards_jump_SSBM/8.png', 'video/frames/ffmpeg_1.png')\n",
      "('mario/moves/Mario_Backwards_jump_SSBM/9.png', 'video/frames/ffmpeg_1.png')\n",
      "('mario/moves/Mario_Backwards_jump_SSBM/10.png', 'video/frames/ffmpeg_1.png')\n",
      "('mario/moves/Mario_Backwards_jump_SSBM/11.png', 'video/frames/ffmpeg_1.png')\n",
      "('mario/moves/Mario_Backwards_jump_SSBM/12.png', 'video/frames/ffmpeg_1.png')\n",
      "('mario/moves/Mario_Backwards_jump_SSBM/13.png', 'video/frames/ffmpeg_1.png')\n",
      "('mario/moves/Mario_Backwards_jump_SSBM/14.png', 'video/frames/ffmpeg_1.png')\n",
      "('mario/moves/Mario_Backwards_jump_SSBM/15.png', 'video/frames/ffmpeg_1.png')\n",
      "('mario/moves/Mario_Backwards_jump_SSBM/16.png', 'video/frames/ffmpeg_1.png')\n",
      "('mario/moves/Mario_Backwards_jump_SSBM/17.png', 'video/frames/ffmpeg_1.png')\n",
      "('mario/moves/Mario_Backwards_jump_SSBM/18.png', 'video/frames/ffmpeg_1.png')\n",
      "('mario/moves/Mario_Backwards_jump_SSBM/19.png', 'video/frames/ffmpeg_1.png')\n",
      "('mario/moves/Mario_Backwards_jump_SSBM/20.png', 'video/frames/ffmpeg_1.png')\n",
      "('mario/moves/Mario_Backwards_jump_SSBM/21.png', 'video/frames/ffmpeg_1.png')\n",
      "('mario/moves/Mario_Backwards_jump_SSBM/22.png', 'video/frames/ffmpeg_1.png')\n",
      "('mario/moves/Mario_Backwards_jump_SSBM/23.png', 'video/frames/ffmpeg_1.png')\n",
      "('mario/moves/Mario_Backwards_jump_SSBM/24.png', 'video/frames/ffmpeg_1.png')\n",
      "('mario/moves/Mario_Backwards_jump_SSBM/25.png', 'video/frames/ffmpeg_1.png')\n",
      "('mario/moves/Mario_Backwards_jump_SSBM/26.png', 'video/frames/ffmpeg_1.png')\n",
      "('mario/moves/Mario_Backwards_jump_SSBM/27.png', 'video/frames/ffmpeg_1.png')\n",
      "('mario/moves/Mario_Backwards_jump_SSBM/28.png', 'video/frames/ffmpeg_1.png')\n",
      "('mario/moves/Mario_Backwards_jump_SSBM/29.png', 'video/frames/ffmpeg_1.png')\n",
      "('mario/moves/Mario_Backwards_jump_SSBM/30.png', 'video/frames/ffmpeg_1.png')\n",
      "('mario/moves/Mario_Backwards_jump_SSBM/31.png', 'video/frames/ffmpeg_1.png')\n",
      "('mario/moves/Mario_Backwards_jump_SSBM/32.png', 'video/frames/ffmpeg_1.png')\n",
      "('mario/moves/Mario_Backwards_jump_SSBM/33.png', 'video/frames/ffmpeg_1.png')\n",
      "('mario/moves/Mario_Backwards_jump_SSBM/34.png', 'video/frames/ffmpeg_1.png')\n",
      "('mario/moves/Mario_Backwards_jump_SSBM/35.png', 'video/frames/ffmpeg_1.png')\n",
      "('mario/moves/Mario_Backwards_jump_SSBM/36.png', 'video/frames/ffmpeg_1.png')\n",
      "('mario/moves/Mario_Backwards_jump_SSBM/37.png', 'video/frames/ffmpeg_1.png')\n",
      "('mario/moves/Mario_Backwards_jump_SSBM/38.png', 'video/frames/ffmpeg_1.png')\n",
      "('mario/moves/Mario_Backwards_jump_SSBM/39.png', 'video/frames/ffmpeg_1.png')\n",
      "('mario/moves/Mario_Backwards_jump_SSBM/40.png', 'video/frames/ffmpeg_1.png')\n",
      "('mario/moves/Mario_Backwards_jump_SSBM/41.png', 'video/frames/ffmpeg_1.png')\n",
      "('mario/moves/Mario_Backwards_jump_SSBM/42.png', 'video/frames/ffmpeg_1.png')\n",
      "('mario/moves/Mario_Backwards_jump_SSBM/43.png', 'video/frames/ffmpeg_1.png')\n",
      "('mario/moves/Mario_Backwards_jump_SSBM/44.png', 'video/frames/ffmpeg_1.png')\n",
      "('mario/moves/Mario_Backwards_jump_SSBM/45.png', 'video/frames/ffmpeg_1.png')\n",
      "('mario/moves/Mario_Backwards_jump_SSBM/46.png', 'video/frames/ffmpeg_1.png')\n",
      "('mario/moves/Mario_Backwards_jump_SSBM/47.png', 'video/frames/ffmpeg_1.png')\n",
      "('mario/moves/Mario_Backwards_jump_SSBM/48.png', 'video/frames/ffmpeg_1.png')\n",
      "('mario/moves/Mario_Backwards_jump_SSBM/49.png', 'video/frames/ffmpeg_1.png')\n",
      "('mario/moves/Mario_Backwards_jump_SSBM/50.png', 'video/frames/ffmpeg_1.png')\n",
      "('mario/moves/Mario_Backwards_jump_SSBM/51.png', 'video/frames/ffmpeg_1.png')\n",
      "('mario/moves/Mario_Backwards_jump_SSBM/52.png', 'video/frames/ffmpeg_1.png')\n",
      "('mario/moves/Mario_Backwards_jump_SSBM/53.png', 'video/frames/ffmpeg_1.png')\n",
      "('mario/moves/Mario_Backwards_jump_SSBM/54.png', 'video/frames/ffmpeg_1.png')\n",
      "('mario/moves/Mario_Backwards_jump_SSBM/55.png', 'video/frames/ffmpeg_1.png')\n",
      "('mario/moves/Mario_Backwards_jump_SSBM/56.png', 'video/frames/ffmpeg_1.png')\n",
      "('mario/moves/Mario_Backwards_jump_SSBM/57.png', 'video/frames/ffmpeg_1.png')\n",
      "('mario/moves/Mario_Backwards_jump_SSBM/58.png', 'video/frames/ffmpeg_1.png')\n",
      "('mario/moves/Mario_Backwards_jump_SSBM/59.png', 'video/frames/ffmpeg_1.png')\n",
      "{'Mario_Backwards_jump_SSBM_count': 2, 'frame': 1, 'Mario_Airdodge_SSBM_frame': 2, 'Mario_Backwards_jump_SSBM_frame': 47, 'Mario_Backwards_double_jump_SSBM_count': 4, 'Mario_Airdodge_SSBM_count': 3, 'Mario_AAA_Combo_SSBM_count': 1, 'Mario_Backwards_double_jump_SSBM_frame': 2, 'Mario_AAA_Combo_SSBM_frame': 1}\n",
      "('mario/moves/Mario_Crouch_hold_SSBM/0.png', 'video/frames/ffmpeg_1.png')\n",
      "('mario/moves/Mario_Crouch_hold_SSBM/1.png', 'video/frames/ffmpeg_1.png')\n",
      "('mario/moves/Mario_Crouch_hold_SSBM/2.png', 'video/frames/ffmpeg_1.png')\n",
      "('mario/moves/Mario_Crouch_hold_SSBM/3.png', 'video/frames/ffmpeg_1.png')\n",
      "('mario/moves/Mario_Crouch_hold_SSBM/4.png', 'video/frames/ffmpeg_1.png')\n",
      "('mario/moves/Mario_Crouch_hold_SSBM/5.png', 'video/frames/ffmpeg_1.png')\n",
      "('mario/moves/Mario_Crouch_hold_SSBM/6.png', 'video/frames/ffmpeg_1.png')\n",
      "('mario/moves/Mario_Crouch_hold_SSBM/7.png', 'video/frames/ffmpeg_1.png')\n",
      "('mario/moves/Mario_Crouch_hold_SSBM/8.png', 'video/frames/ffmpeg_1.png')\n",
      "('mario/moves/Mario_Crouch_hold_SSBM/9.png', 'video/frames/ffmpeg_1.png')\n",
      "('mario/moves/Mario_Crouch_hold_SSBM/10.png', 'video/frames/ffmpeg_1.png')\n",
      "('mario/moves/Mario_Crouch_hold_SSBM/11.png', 'video/frames/ffmpeg_1.png')\n",
      "('mario/moves/Mario_Crouch_hold_SSBM/12.png', 'video/frames/ffmpeg_1.png')\n",
      "('mario/moves/Mario_Crouch_hold_SSBM/13.png', 'video/frames/ffmpeg_1.png')\n",
      "('mario/moves/Mario_Crouch_hold_SSBM/14.png', 'video/frames/ffmpeg_1.png')\n",
      "('mario/moves/Mario_Crouch_hold_SSBM/15.png', 'video/frames/ffmpeg_1.png')\n"
     ]
    },
    {
     "ename": "KeyboardInterrupt",
     "evalue": "",
     "output_type": "error",
     "traceback": [
      "\u001b[0;31m---------------------------------------------------------------------------\u001b[0m",
      "\u001b[0;31mKeyboardInterrupt\u001b[0m                         Traceback (most recent call last)",
      "\u001b[0;32m<ipython-input-17-5d3981812ce1>\u001b[0m in \u001b[0;36m<module>\u001b[0;34m()\u001b[0m\n\u001b[1;32m     11\u001b[0m         \u001b[0mmove_frames\u001b[0m \u001b[0;34m=\u001b[0m \u001b[0mvideo_frames\u001b[0m \u001b[0;34m=\u001b[0m \u001b[0mos\u001b[0m\u001b[0;34m.\u001b[0m\u001b[0mlistdir\u001b[0m\u001b[0;34m(\u001b[0m\u001b[0mprefix_move\u001b[0m\u001b[0;34m)\u001b[0m\u001b[0;34m\u001b[0m\u001b[0m\n\u001b[1;32m     12\u001b[0m         \u001b[0;32mfor\u001b[0m \u001b[0mgif\u001b[0m \u001b[0;32min\u001b[0m \u001b[0mmove_frames\u001b[0m\u001b[0;34m:\u001b[0m\u001b[0;34m\u001b[0m\u001b[0m\n\u001b[0;32m---> 13\u001b[0;31m             \u001b[0mmatches\u001b[0m \u001b[0;34m=\u001b[0m \u001b[0mtest_image\u001b[0m\u001b[0;34m(\u001b[0m\u001b[0mprefix_move\u001b[0m\u001b[0;34m+\u001b[0m\u001b[0;34m\"/\"\u001b[0m\u001b[0;34m+\u001b[0m\u001b[0mstr\u001b[0m\u001b[0;34m(\u001b[0m\u001b[0mi\u001b[0m\u001b[0;34m)\u001b[0m\u001b[0;34m+\u001b[0m\u001b[0;34m\".png\"\u001b[0m\u001b[0;34m,\u001b[0m\u001b[0mprefix_game\u001b[0m\u001b[0;34m+\u001b[0m\u001b[0;34m\"ffmpeg_\"\u001b[0m\u001b[0;34m+\u001b[0m\u001b[0mstr\u001b[0m\u001b[0;34m(\u001b[0m\u001b[0mj\u001b[0m\u001b[0;34m)\u001b[0m\u001b[0;34m+\u001b[0m\u001b[0;34m\".png\"\u001b[0m\u001b[0;34m)\u001b[0m\u001b[0;34m\u001b[0m\u001b[0m\n\u001b[0m\u001b[1;32m     14\u001b[0m             \u001b[0;32mif\u001b[0m \u001b[0mmatches\u001b[0m \u001b[0;34m>\u001b[0m \u001b[0mmax_matches\u001b[0m\u001b[0;34m:\u001b[0m\u001b[0;34m\u001b[0m\u001b[0m\n\u001b[1;32m     15\u001b[0m                 \u001b[0mmax_matches\u001b[0m \u001b[0;34m=\u001b[0m \u001b[0mmatches\u001b[0m\u001b[0;34m\u001b[0m\u001b[0m\n",
      "\u001b[0;32m<ipython-input-3-dc8e7f879005>\u001b[0m in \u001b[0;36mtest_image\u001b[0;34m(move_file, game_screenshot)\u001b[0m\n\u001b[1;32m      5\u001b[0m     \u001b[0msift\u001b[0m \u001b[0;34m=\u001b[0m \u001b[0mcv2\u001b[0m\u001b[0;34m.\u001b[0m\u001b[0mSIFT\u001b[0m\u001b[0;34m(\u001b[0m\u001b[0;34m)\u001b[0m\u001b[0;34m\u001b[0m\u001b[0m\n\u001b[1;32m      6\u001b[0m     \u001b[0mkp1\u001b[0m\u001b[0;34m,\u001b[0m \u001b[0mdes1\u001b[0m \u001b[0;34m=\u001b[0m \u001b[0msift\u001b[0m\u001b[0;34m.\u001b[0m\u001b[0mdetectAndCompute\u001b[0m\u001b[0;34m(\u001b[0m\u001b[0mimg1\u001b[0m\u001b[0;34m,\u001b[0m\u001b[0mNone\u001b[0m\u001b[0;34m)\u001b[0m\u001b[0;34m\u001b[0m\u001b[0m\n\u001b[0;32m----> 7\u001b[0;31m     \u001b[0mkp2\u001b[0m\u001b[0;34m,\u001b[0m \u001b[0mdes2\u001b[0m \u001b[0;34m=\u001b[0m \u001b[0msift\u001b[0m\u001b[0;34m.\u001b[0m\u001b[0mdetectAndCompute\u001b[0m\u001b[0;34m(\u001b[0m\u001b[0mimg2\u001b[0m\u001b[0;34m,\u001b[0m\u001b[0mNone\u001b[0m\u001b[0;34m)\u001b[0m\u001b[0;34m\u001b[0m\u001b[0m\n\u001b[0m\u001b[1;32m      8\u001b[0m     \u001b[0mFLANN_INDEX_KDTREE\u001b[0m \u001b[0;34m=\u001b[0m \u001b[0;36m0\u001b[0m\u001b[0;34m\u001b[0m\u001b[0m\n\u001b[1;32m      9\u001b[0m     \u001b[0mindex_params\u001b[0m \u001b[0;34m=\u001b[0m \u001b[0mdict\u001b[0m\u001b[0;34m(\u001b[0m\u001b[0malgorithm\u001b[0m \u001b[0;34m=\u001b[0m \u001b[0mFLANN_INDEX_KDTREE\u001b[0m\u001b[0;34m,\u001b[0m \u001b[0mtrees\u001b[0m \u001b[0;34m=\u001b[0m \u001b[0;36m5\u001b[0m\u001b[0;34m)\u001b[0m\u001b[0;34m\u001b[0m\u001b[0m\n",
      "\u001b[0;31mKeyboardInterrupt\u001b[0m: "
     ]
    }
   ],
   "source": [
    "matches_game = []\n",
    "j = 1\n",
    "for frame in video_frames:\n",
    "    matches_frame = {}\n",
    "    matches_frame[\"frame\"] = j \n",
    "    for move in mario_moves:\n",
    "        max_matches = 0\n",
    "        max_i = 0\n",
    "        i = 0\n",
    "        prefix_move = \"mario/moves/\"+move\n",
    "        move_frames = video_frames = os.listdir(prefix_move)\n",
    "        for gif in move_frames:\n",
    "            matches = test_image(prefix_move+\"/\"+str(i)+\".png\",prefix_game+\"ffmpeg_\"+str(j)+\".png\")\n",
    "            if matches > max_matches:\n",
    "                max_matches = matches\n",
    "                max_i = i\n",
    "            i = i + 1\n",
    "        matches_frame[move+\"_count\"] = max_matches\n",
    "        matches_frame[move+\"_frame\"] = max_i\n",
    "        print(matches_frame)\n",
    "    matches_game.append(matches_frame)\n",
    "    j = j + 1"
   ]
  },
  {
   "cell_type": "code",
   "execution_count": 18,
   "metadata": {
    "collapsed": false
   },
   "outputs": [
    {
     "data": {
      "text/plain": [
       "[]"
      ]
     },
     "execution_count": 18,
     "metadata": {},
     "output_type": "execute_result"
    }
   ],
   "source": [
    "matches_game"
   ]
  },
  {
   "cell_type": "code",
   "execution_count": null,
   "metadata": {
    "collapsed": true
   },
   "outputs": [],
   "source": []
  }
 ],
 "metadata": {
  "kernelspec": {
   "display_name": "IPython (Python 2)",
   "language": "python",
   "name": "python2"
  },
  "language_info": {
   "codemirror_mode": {
    "name": "ipython",
    "version": 2
   },
   "file_extension": ".py",
   "mimetype": "text/x-python",
   "name": "python",
   "nbconvert_exporter": "python",
   "pygments_lexer": "ipython2",
   "version": "2.7.10"
  }
 },
 "nbformat": 4,
 "nbformat_minor": 0
}
